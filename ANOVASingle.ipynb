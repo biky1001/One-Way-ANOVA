{
 "cells": [
  {
   "cell_type": "code",
   "execution_count": 15,
   "id": "cb86e84d-7e2c-4180-87d0-0962ecaf83b1",
   "metadata": {
    "tags": []
   },
   "outputs": [],
   "source": [
    "import pandas as pd\n",
    "import numpy as np\n",
    "import matplotlib.pyplot as plt\n",
    "import seaborn as sns"
   ]
  },
  {
   "cell_type": "code",
   "execution_count": 2,
   "id": "2bd973b9-2742-4f68-8267-5d5c55e3138e",
   "metadata": {
    "tags": []
   },
   "outputs": [
    {
     "data": {
      "text/html": [
       "<div>\n",
       "<style scoped>\n",
       "    .dataframe tbody tr th:only-of-type {\n",
       "        vertical-align: middle;\n",
       "    }\n",
       "\n",
       "    .dataframe tbody tr th {\n",
       "        vertical-align: top;\n",
       "    }\n",
       "\n",
       "    .dataframe thead th {\n",
       "        text-align: right;\n",
       "    }\n",
       "</style>\n",
       "<table border=\"1\" class=\"dataframe\">\n",
       "  <thead>\n",
       "    <tr style=\"text-align: right;\">\n",
       "      <th></th>\n",
       "      <th>Person</th>\n",
       "      <th>gender</th>\n",
       "      <th>Age</th>\n",
       "      <th>Height</th>\n",
       "      <th>pre_weight</th>\n",
       "      <th>Diet</th>\n",
       "      <th>weight_6weeks</th>\n",
       "    </tr>\n",
       "  </thead>\n",
       "  <tbody>\n",
       "    <tr>\n",
       "      <th>0</th>\n",
       "      <td>1</td>\n",
       "      <td>F</td>\n",
       "      <td>22</td>\n",
       "      <td>159</td>\n",
       "      <td>58</td>\n",
       "      <td>1</td>\n",
       "      <td>54.2</td>\n",
       "    </tr>\n",
       "    <tr>\n",
       "      <th>1</th>\n",
       "      <td>2</td>\n",
       "      <td>F</td>\n",
       "      <td>46</td>\n",
       "      <td>192</td>\n",
       "      <td>60</td>\n",
       "      <td>1</td>\n",
       "      <td>54.0</td>\n",
       "    </tr>\n",
       "    <tr>\n",
       "      <th>2</th>\n",
       "      <td>3</td>\n",
       "      <td>F</td>\n",
       "      <td>55</td>\n",
       "      <td>170</td>\n",
       "      <td>64</td>\n",
       "      <td>1</td>\n",
       "      <td>63.3</td>\n",
       "    </tr>\n",
       "    <tr>\n",
       "      <th>3</th>\n",
       "      <td>4</td>\n",
       "      <td>F</td>\n",
       "      <td>33</td>\n",
       "      <td>171</td>\n",
       "      <td>64</td>\n",
       "      <td>1</td>\n",
       "      <td>61.1</td>\n",
       "    </tr>\n",
       "    <tr>\n",
       "      <th>4</th>\n",
       "      <td>5</td>\n",
       "      <td>F</td>\n",
       "      <td>50</td>\n",
       "      <td>170</td>\n",
       "      <td>65</td>\n",
       "      <td>1</td>\n",
       "      <td>62.2</td>\n",
       "    </tr>\n",
       "  </tbody>\n",
       "</table>\n",
       "</div>"
      ],
      "text/plain": [
       "   Person gender  Age  Height  pre_weight  Diet  weight_6weeks\n",
       "0       1      F   22     159          58     1           54.2\n",
       "1       2      F   46     192          60     1           54.0\n",
       "2       3      F   55     170          64     1           63.3\n",
       "3       4      F   33     171          64     1           61.1\n",
       "4       5      F   50     170          65     1           62.2"
      ]
     },
     "execution_count": 2,
     "metadata": {},
     "output_type": "execute_result"
    }
   ],
   "source": [
    "data=pd.read_csv('Diet.csv')\n",
    "data.head()"
   ]
  },
  {
   "cell_type": "code",
   "execution_count": 3,
   "id": "b71897fe-1a41-42d0-b7c3-41d7c2a84709",
   "metadata": {
    "tags": []
   },
   "outputs": [
    {
     "data": {
      "text/plain": [
       "Person           0\n",
       "gender           0\n",
       "Age              0\n",
       "Height           0\n",
       "pre_weight       0\n",
       "Diet             0\n",
       "weight_6weeks    0\n",
       "dtype: int64"
      ]
     },
     "execution_count": 3,
     "metadata": {},
     "output_type": "execute_result"
    }
   ],
   "source": [
    "data.isnull().sum()"
   ]
  },
  {
   "cell_type": "code",
   "execution_count": 4,
   "id": "7d894627-ce42-4d3f-9fdc-718b1b40f965",
   "metadata": {
    "tags": []
   },
   "outputs": [
    {
     "data": {
      "text/html": [
       "<div>\n",
       "<style scoped>\n",
       "    .dataframe tbody tr th:only-of-type {\n",
       "        vertical-align: middle;\n",
       "    }\n",
       "\n",
       "    .dataframe tbody tr th {\n",
       "        vertical-align: top;\n",
       "    }\n",
       "\n",
       "    .dataframe thead th {\n",
       "        text-align: right;\n",
       "    }\n",
       "</style>\n",
       "<table border=\"1\" class=\"dataframe\">\n",
       "  <thead>\n",
       "    <tr style=\"text-align: right;\">\n",
       "      <th></th>\n",
       "      <th>Person</th>\n",
       "      <th>gender</th>\n",
       "      <th>Age</th>\n",
       "      <th>Height</th>\n",
       "      <th>pre_weight</th>\n",
       "      <th>Diet</th>\n",
       "      <th>weight_6weeks</th>\n",
       "    </tr>\n",
       "  </thead>\n",
       "  <tbody>\n",
       "    <tr>\n",
       "      <th>0</th>\n",
       "      <td>1</td>\n",
       "      <td>F</td>\n",
       "      <td>22</td>\n",
       "      <td>159</td>\n",
       "      <td>58</td>\n",
       "      <td>1</td>\n",
       "      <td>54.2</td>\n",
       "    </tr>\n",
       "    <tr>\n",
       "      <th>1</th>\n",
       "      <td>2</td>\n",
       "      <td>F</td>\n",
       "      <td>46</td>\n",
       "      <td>192</td>\n",
       "      <td>60</td>\n",
       "      <td>1</td>\n",
       "      <td>54.0</td>\n",
       "    </tr>\n",
       "    <tr>\n",
       "      <th>2</th>\n",
       "      <td>3</td>\n",
       "      <td>F</td>\n",
       "      <td>55</td>\n",
       "      <td>170</td>\n",
       "      <td>64</td>\n",
       "      <td>1</td>\n",
       "      <td>63.3</td>\n",
       "    </tr>\n",
       "    <tr>\n",
       "      <th>3</th>\n",
       "      <td>4</td>\n",
       "      <td>F</td>\n",
       "      <td>33</td>\n",
       "      <td>171</td>\n",
       "      <td>64</td>\n",
       "      <td>1</td>\n",
       "      <td>61.1</td>\n",
       "    </tr>\n",
       "    <tr>\n",
       "      <th>4</th>\n",
       "      <td>5</td>\n",
       "      <td>F</td>\n",
       "      <td>50</td>\n",
       "      <td>170</td>\n",
       "      <td>65</td>\n",
       "      <td>1</td>\n",
       "      <td>62.2</td>\n",
       "    </tr>\n",
       "  </tbody>\n",
       "</table>\n",
       "</div>"
      ],
      "text/plain": [
       "   Person gender  Age  Height  pre_weight  Diet  weight_6weeks\n",
       "0       1      F   22     159          58     1           54.2\n",
       "1       2      F   46     192          60     1           54.0\n",
       "2       3      F   55     170          64     1           63.3\n",
       "3       4      F   33     171          64     1           61.1\n",
       "4       5      F   50     170          65     1           62.2"
      ]
     },
     "execution_count": 4,
     "metadata": {},
     "output_type": "execute_result"
    }
   ],
   "source": [
    "data=pd.DataFrame(data)\n",
    "data.head()"
   ]
  },
  {
   "cell_type": "code",
   "execution_count": 5,
   "id": "49bae646-8369-4817-906e-33d84ca789ab",
   "metadata": {
    "tags": []
   },
   "outputs": [
    {
     "data": {
      "image/png": "[encoded data removed]",
      "text/plain": [
       "<Figure size 1000x600 with 1 Axes>"
      ]
     },
     "metadata": {},
     "output_type": "display_data"
    }
   ],
   "source": [
    "plt.figure(figsize=(10, 6))       # checking outliers using boxplot\n",
    "sns.boxplot(data)\n",
    "plt.show()"
   ]
  },
  {
   "cell_type": "code",
   "execution_count": 6,
   "id": "6bf6db74-0a59-48bb-b20e-1f7a1e96cfb2",
   "metadata": {
    "tags": []
   },
   "outputs": [
    {
     "data": {
      "text/html": [
       "<div>\n",
       "<style scoped>\n",
       "    .dataframe tbody tr th:only-of-type {\n",
       "        vertical-align: middle;\n",
       "    }\n",
       "\n",
       "    .dataframe tbody tr th {\n",
       "        vertical-align: top;\n",
       "    }\n",
       "\n",
       "    .dataframe thead th {\n",
       "        text-align: right;\n",
       "    }\n",
       "</style>\n",
       "<table border=\"1\" class=\"dataframe\">\n",
       "  <thead>\n",
       "    <tr style=\"text-align: right;\">\n",
       "      <th></th>\n",
       "      <th>Person</th>\n",
       "      <th>gender</th>\n",
       "      <th>Age</th>\n",
       "      <th>Height</th>\n",
       "      <th>pre_weight</th>\n",
       "      <th>Diet</th>\n",
       "      <th>weight_6weeks</th>\n",
       "      <th>Bmi_start</th>\n",
       "      <th>Bmi_end</th>\n",
       "      <th>Bmi_change</th>\n",
       "    </tr>\n",
       "  </thead>\n",
       "  <tbody>\n",
       "    <tr>\n",
       "      <th>0</th>\n",
       "      <td>1</td>\n",
       "      <td>F</td>\n",
       "      <td>22</td>\n",
       "      <td>159</td>\n",
       "      <td>58</td>\n",
       "      <td>1</td>\n",
       "      <td>54.2</td>\n",
       "      <td>22.942130</td>\n",
       "      <td>21.439025</td>\n",
       "      <td>1.503105</td>\n",
       "    </tr>\n",
       "    <tr>\n",
       "      <th>1</th>\n",
       "      <td>2</td>\n",
       "      <td>F</td>\n",
       "      <td>46</td>\n",
       "      <td>192</td>\n",
       "      <td>60</td>\n",
       "      <td>1</td>\n",
       "      <td>54.0</td>\n",
       "      <td>16.276042</td>\n",
       "      <td>14.648438</td>\n",
       "      <td>1.627604</td>\n",
       "    </tr>\n",
       "    <tr>\n",
       "      <th>2</th>\n",
       "      <td>3</td>\n",
       "      <td>F</td>\n",
       "      <td>55</td>\n",
       "      <td>170</td>\n",
       "      <td>64</td>\n",
       "      <td>1</td>\n",
       "      <td>63.3</td>\n",
       "      <td>22.145329</td>\n",
       "      <td>21.903114</td>\n",
       "      <td>0.242215</td>\n",
       "    </tr>\n",
       "    <tr>\n",
       "      <th>3</th>\n",
       "      <td>4</td>\n",
       "      <td>F</td>\n",
       "      <td>33</td>\n",
       "      <td>171</td>\n",
       "      <td>64</td>\n",
       "      <td>1</td>\n",
       "      <td>61.1</td>\n",
       "      <td>21.887076</td>\n",
       "      <td>20.895318</td>\n",
       "      <td>0.991758</td>\n",
       "    </tr>\n",
       "    <tr>\n",
       "      <th>4</th>\n",
       "      <td>5</td>\n",
       "      <td>F</td>\n",
       "      <td>50</td>\n",
       "      <td>170</td>\n",
       "      <td>65</td>\n",
       "      <td>1</td>\n",
       "      <td>62.2</td>\n",
       "      <td>22.491349</td>\n",
       "      <td>21.522491</td>\n",
       "      <td>0.968858</td>\n",
       "    </tr>\n",
       "  </tbody>\n",
       "</table>\n",
       "</div>"
      ],
      "text/plain": [
       "   Person gender  Age  Height  pre_weight  Diet  weight_6weeks  Bmi_start  \\\n",
       "0       1      F   22     159          58     1           54.2  22.942130   \n",
       "1       2      F   46     192          60     1           54.0  16.276042   \n",
       "2       3      F   55     170          64     1           63.3  22.145329   \n",
       "3       4      F   33     171          64     1           61.1  21.887076   \n",
       "4       5      F   50     170          65     1           62.2  22.491349   \n",
       "\n",
       "     Bmi_end  Bmi_change  \n",
       "0  21.439025    1.503105  \n",
       "1  14.648438    1.627604  \n",
       "2  21.903114    0.242215  \n",
       "3  20.895318    0.991758  \n",
       "4  21.522491    0.968858  "
      ]
     },
     "execution_count": 6,
     "metadata": {},
     "output_type": "execute_result"
    }
   ],
   "source": [
    "data['Bmi_start']=data['pre_weight'] / (data['Height'] / 100)**2\n",
    "data['Bmi_end']=data['weight_6weeks'] / (data['Height'] / 100)**2\n",
    "data['Bmi_change']=data['Bmi_start'] - data['Bmi_end']\n",
    "data.head()"
   ]
  },
  {
   "cell_type": "code",
   "execution_count": 55,
   "id": "0d068c50-8863-4759-b12e-177d5c14a052",
   "metadata": {
    "tags": []
   },
   "outputs": [
    {
     "data": {
      "text/plain": [
       "<seaborn.axisgrid.FacetGrid at 0x1d801a1ce50>"
      ]
     },
     "execution_count": 55,
     "metadata": {},
     "output_type": "execute_result"
    },
    {
     "data": {
      "image/png": "[encoded data removed]",
      "text/plain": [
       "<Figure size 1058.88x500 with 2 Axes>"
      ]
     },
     "metadata": {},
     "output_type": "display_data"
    }
   ],
   "source": [
    "sns.relplot(data, x='Height' , y='pre_weight', hue='Diet',col ='gender', palette=['y','b','g'])"
   ]
  },
  {
   "cell_type": "code",
   "execution_count": 8,
   "id": "e3d49f39-9355-4d73-8976-3da5e2b17f60",
   "metadata": {
    "tags": []
   },
   "outputs": [],
   "source": [
    "# converting Bmi_change to list\n",
    "diet_1 = data[data['Diet']==1]['Bmi_change'].tolist()\n",
    "diet_2 = data[data['Diet']==2]['Bmi_change'].tolist()\n",
    "diet_3 = data[data['Diet']==3]['Bmi_change'].tolist()"
   ]
  },
  {
   "cell_type": "code",
   "execution_count": 50,
   "id": "755a0c4f-7fc1-411e-b7f7-6ed4c69491a1",
   "metadata": {
    "tags": []
   },
   "outputs": [
    {
     "data": {
      "text/plain": [
       "1.3413400888102003"
      ]
     },
     "execution_count": 50,
     "metadata": {},
     "output_type": "execute_result"
    }
   ],
   "source": [
    "GM = data.Bmi_change.mean()    # Grand mean\n",
    "GM"
   ]
  },
  {
   "cell_type": "code",
   "execution_count": 40,
   "id": "efabaaaf-c036-422b-8a90-9a24d62052e0",
   "metadata": {
    "tags": []
   },
   "outputs": [
    {
     "name": "stdout",
     "output_type": "stream",
     "text": [
      "ss_total = 70.29681852815399\n"
     ]
    }
   ],
   "source": [
    "diet=[diet_1, diet_2, diet_3]      # calculating sum of square Total\n",
    "ss_total = 0\n",
    "for i in range(0, len(diet)):\n",
    "    for j in range(len(diet[i])):\n",
    "        ss_total+= ((diet[i][j] - GM) **2)\n",
    "print('ss_total =',ss_total)"
   ]
  },
  {
   "cell_type": "code",
   "execution_count": 42,
   "id": "d4973aca-32ea-441b-97c6-79776c72531d",
   "metadata": {
    "tags": []
   },
   "outputs": [],
   "source": [
    "def ssw(data):\n",
    "    mean = sum(data) / len(data)\n",
    "    ssw = 0\n",
    "    for i in range(len(data)):\n",
    "        ssw += ((data[i] - mean)**2)\n",
    "    return ssw"
   ]
  },
  {
   "cell_type": "code",
   "execution_count": 43,
   "id": "d886844c-3e2a-446e-95fd-7f367d0a2e53",
   "metadata": {
    "tags": []
   },
   "outputs": [],
   "source": [
    "ssw_1 = ssw(diet_1)\n",
    "ssw_2 = ssw(diet_2)\n",
    "ssw_3 = ssw(diet_3)"
   ]
  },
  {
   "cell_type": "code",
   "execution_count": 48,
   "id": "d0700caf-14b7-483c-a822-4c3cce501900",
   "metadata": {
    "tags": []
   },
   "outputs": [
    {
     "data": {
      "text/plain": [
       "55.60724318088374"
      ]
     },
     "execution_count": 48,
     "metadata": {},
     "output_type": "execute_result"
    }
   ],
   "source": [
    "ss_within = ssw_1 + ssw_2 + ssw_3 \n",
    "ss_within        # sum of square within"
   ]
  },
  {
   "cell_type": "code",
   "execution_count": 49,
   "id": "f544dc3b-ff98-4c5c-92b0-41c8c16c9023",
   "metadata": {
    "tags": []
   },
   "outputs": [
    {
     "data": {
      "text/plain": [
       "14.68957534727025"
      ]
     },
     "execution_count": 49,
     "metadata": {},
     "output_type": "execute_result"
    }
   ],
   "source": [
    "ss_bw = ss_total - ss_within    \n",
    "ss_bw        # sum of square between"
   ]
  },
  {
   "cell_type": "code",
   "execution_count": 56,
   "id": "10dd6a44-a645-497b-bb02-f09ddde77f82",
   "metadata": {
    "tags": []
   },
   "outputs": [],
   "source": [
    "df_bw = 3 - 1           # Ncols -1\n",
    "df_within = 90 -3       # Count - Ncols"
   ]
  },
  {
   "cell_type": "code",
   "execution_count": 57,
   "id": "e9524d98-2d71-4222-8b0c-600abe37807d",
   "metadata": {
    "tags": []
   },
   "outputs": [
    {
     "data": {
      "text/plain": [
       "11.491246302710534"
      ]
     },
     "execution_count": 57,
     "metadata": {},
     "output_type": "execute_result"
    }
   ],
   "source": [
    "# calculating f- statistics\n",
    "f = (ss_bw / df_bw) / (ss_within / df_within)\n",
    "f"
   ]
  },
  {
   "cell_type": "code",
   "execution_count": 61,
   "id": "96c3d845-84e3-4746-9456-3ba18dc408d2",
   "metadata": {
    "tags": []
   },
   "outputs": [
    {
     "data": {
      "text/plain": [
       "3.728315951810458e-05"
      ]
     },
     "execution_count": 61,
     "metadata": {},
     "output_type": "execute_result"
    }
   ],
   "source": [
    "# calculating p-value\n",
    "import scipy.stats as stats\n",
    "p_value = stats.f.sf(f, df_bw, df_within)\n",
    "p_value"
   ]
  },
  {
   "cell_type": "markdown",
   "id": "f063e91d-6072-48c3-8016-83b98d0e460c",
   "metadata": {
    "tags": []
   },
   "source": [
    "from this we can understand that\n",
    "we successfully rejeect the Null Hypothesis.\n",
    "Since p_value is less the alpha i.e 0.05."
   ]
  }
 ],
 "metadata": {
  "kernelspec": {
   "display_name": "Python 3 (ipykernel)",
   "language": "python",
   "name": "python3"
  },
  "language_info": {
   "codemirror_mode": {
    "name": "ipython",
    "version": 3
   },
   "file_extension": ".py",
   "mimetype": "text/x-python",
   "name": "python",
   "nbconvert_exporter": "python",
   "pygments_lexer": "ipython3",
   "version": "3.11.4"
  }
 },
 "nbformat": 4,
 "nbformat_minor": 5
}
